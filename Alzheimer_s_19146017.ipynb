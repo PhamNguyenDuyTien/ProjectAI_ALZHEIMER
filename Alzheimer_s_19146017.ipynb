{
  "cells": [
    {
      "cell_type": "code",
      "execution_count": 1,
      "metadata": {
        "id": "R3p8fl29SZEh"
      },
      "outputs": [],
      "source": [
        "import pickle\n",
        "from sklearn.model_selection import train_test_split\n",
        "from keras.preprocessing.image import ImageDataGenerator\n",
        "from keras.models import Sequential\n",
        "from keras.layers.convolutional import MaxPooling2D\n",
        "from keras.layers.convolutional import Conv2D\n",
        "from keras.layers import Dense, Activation, Flatten, Input, Dropout\n",
        "from tensorflow.keras.optimizers import SGD\n",
        "import matplotlib.pyplot as plt\n",
        "import cv2 as cv\n",
        "from keras_preprocessing.image import load_img, img_to_array\n",
        "import numpy as np"
      ]
    },
    {
      "cell_type": "code",
      "execution_count": 2,
      "metadata": {
        "id": "nFVWCgINSlIR"
      },
      "outputs": [],
      "source": [
        "def loadData():\n",
        "    file = open('Alzheimer_s Dataset/alzheimer.data', 'rb')\n",
        "    (images, labels) = pickle.load(file)\n",
        "    file.close()\n",
        "    print(images.shape)\n",
        "    print(labels.shape)\n",
        "    return images, labels"
      ]
    },
    {
      "cell_type": "code",
      "execution_count": 3,
      "metadata": {
        "colab": {
          "base_uri": "https://localhost:8080/"
        },
        "id": "K9Tlf9-tS5da",
        "outputId": "4be6245e-6c67-4435-c1b7-a98af35ba6d1"
      },
      "outputs": [
        {
          "name": "stdout",
          "output_type": "stream",
          "text": [
            "(2792, 128, 128, 3)\n",
            "(2792, 3)\n"
          ]
        }
      ],
      "source": [
        "X,y = loadData()\n",
        "X_train, X_test, y_train, y_test = train_test_split( X, y, test_size=0.2, random_state=100)"
      ]
    },
    {
      "cell_type": "code",
      "execution_count": 4,
      "metadata": {
        "id": "3A0zF7LVS7tE"
      },
      "outputs": [],
      "source": [
        "n_class = 3\n",
        "\n",
        "model = Sequential()\n",
        "model.add(Conv2D(32, (3, 3), activation='relu', kernel_initializer='he_uniform', padding='same', input_shape=(128, 128, 3)))\n",
        "model.add(Conv2D(32, (3, 3), activation='relu', kernel_initializer='he_uniform', padding='same'))\n",
        "model.add(MaxPooling2D((2, 2)))\n",
        "model.add(Conv2D(64, (3, 3), activation='relu', kernel_initializer='he_uniform', padding='same'))\n",
        "model.add(Conv2D(64, (3, 3), activation='relu', kernel_initializer='he_uniform', padding='same'))\n",
        "model.add(MaxPooling2D((2, 2)))\n",
        "model.add(Conv2D(128, (3, 3), activation='relu', kernel_initializer='he_uniform', padding='same'))\n",
        "model.add(Conv2D(128, (3, 3), activation='relu', kernel_initializer='he_uniform', padding='same'))\n",
        "model.add(MaxPooling2D((2, 2)))\n",
        "model.add(Flatten())\n",
        "model.add(Dense(2048, activation='relu'))\n",
        "model.add(Dropout(0.2))\n",
        "model.add(Dense(2048, activation='relu'))\n",
        "model.add(Dense(n_class, activation='softmax'))"
      ]
    },
    {
      "cell_type": "code",
      "execution_count": 5,
      "metadata": {
        "colab": {
          "base_uri": "https://localhost:8080/"
        },
        "id": "pkImLT_fTGJg",
        "outputId": "ebe7c2b8-6343-4801-d410-69b55be5f508"
      },
      "outputs": [
        {
          "name": "stderr",
          "output_type": "stream",
          "text": [
            "c:\\ProgramData\\Anaconda3\\lib\\site-packages\\keras\\optimizers\\optimizer_v2\\gradient_descent.py:108: UserWarning: The `lr` argument is deprecated, use `learning_rate` instead.\n",
            "  super(SGD, self).__init__(name, **kwargs)\n"
          ]
        }
      ],
      "source": [
        "opt = SGD(lr=0.001, momentum=0.9)\n",
        "model.compile(optimizer='adam', loss='categorical_crossentropy', metrics=['accuracy'])\n",
        "aug = ImageDataGenerator(rotation_range=20, zoom_range=0.1,\n",
        "    rescale=1./255,\n",
        "\twidth_shift_range=0.1,\n",
        "    height_shift_range=0.1,\n",
        "\thorizontal_flip=True,\n",
        "    brightness_range=[0.2,1.5], fill_mode=\"nearest\")"
      ]
    },
    {
      "cell_type": "code",
      "execution_count": 6,
      "metadata": {
        "colab": {
          "base_uri": "https://localhost:8080/"
        },
        "id": "EmONmwImTJcR",
        "outputId": "2dd2290d-2f9b-492b-df70-0eb9499ff34c"
      },
      "outputs": [
        {
          "name": "stdout",
          "output_type": "stream",
          "text": [
            "Epoch 1/10\n",
            "35/35 [==============================] - 123s 3s/step - loss: 2.5881 - accuracy: 0.5096 - val_loss: 0.9667 - val_accuracy: 0.5886\n",
            "Epoch 2/10\n",
            "35/35 [==============================] - 116s 3s/step - loss: 1.0007 - accuracy: 0.5383 - val_loss: 0.9570 - val_accuracy: 0.5886\n",
            "Epoch 3/10\n",
            "35/35 [==============================] - 119s 3s/step - loss: 0.8233 - accuracy: 0.6099 - val_loss: 0.5949 - val_accuracy: 0.7263\n",
            "Epoch 4/10\n",
            "35/35 [==============================] - 119s 3s/step - loss: 0.5212 - accuracy: 0.7653 - val_loss: 0.4398 - val_accuracy: 0.8193\n",
            "Epoch 5/10\n",
            "35/35 [==============================] - 119s 3s/step - loss: 0.4347 - accuracy: 0.8258 - val_loss: 0.4047 - val_accuracy: 0.8068\n",
            "Epoch 6/10\n",
            "35/35 [==============================] - 118s 3s/step - loss: 0.3697 - accuracy: 0.8554 - val_loss: 0.3324 - val_accuracy: 0.8730\n",
            "Epoch 7/10\n",
            "35/35 [==============================] - 117s 3s/step - loss: 0.3430 - accuracy: 0.8674 - val_loss: 0.3770 - val_accuracy: 0.8462\n",
            "Epoch 8/10\n",
            "35/35 [==============================] - 116s 3s/step - loss: 0.3124 - accuracy: 0.8764 - val_loss: 0.3218 - val_accuracy: 0.8748\n",
            "Epoch 9/10\n",
            "35/35 [==============================] - 115s 3s/step - loss: 0.3169 - accuracy: 0.8715 - val_loss: 0.3355 - val_accuracy: 0.8640\n",
            "Epoch 10/10\n",
            "35/35 [==============================] - 116s 3s/step - loss: 0.3090 - accuracy: 0.8706 - val_loss: 0.2581 - val_accuracy: 0.9016\n"
          ]
        }
      ],
      "source": [
        "history = model.fit(aug.flow(X_train, y_train, batch_size=64),epochs=10, validation_data=aug.flow(X_test,y_test,batch_size=64), verbose=1)"
      ]
    },
    {
      "cell_type": "code",
      "execution_count": 7,
      "metadata": {
        "colab": {
          "base_uri": "https://localhost:8080/"
        },
        "id": "H847WokETNSF",
        "outputId": "59b43dea-c7ac-4b19-e37b-5dc325a3b019"
      },
      "outputs": [
        {
          "name": "stdout",
          "output_type": "stream",
          "text": [
            "Test loss: 27.8486\n",
            "Test accuracy 0.8837\n"
          ]
        }
      ],
      "source": [
        "score = model.evaluate(X_test, y_test, verbose=0)\n",
        "print('Test loss: %.4f'% score[0])\n",
        "print('Test accuracy %.4f'% score[1])"
      ]
    },
    {
      "cell_type": "code",
      "execution_count": 8,
      "metadata": {
        "id": "_3Y7e6lQTnud"
      },
      "outputs": [],
      "source": [
        "model.save('model.h5')"
      ]
    },
    {
      "cell_type": "code",
      "execution_count": 9,
      "metadata": {
        "id": "x23ICOm-VajI"
      },
      "outputs": [],
      "source": [
        "from keras.models import load_model\n",
        "model5=load_model('model.h5')"
      ]
    },
    {
      "cell_type": "code",
      "execution_count": 11,
      "metadata": {
        "colab": {
          "base_uri": "https://localhost:8080/",
          "height": 268
        },
        "id": "Fr6_CumSTuir",
        "outputId": "76b41261-5503-42e9-f963-9e4973af9020"
      },
      "outputs": [
        {
          "data": {
            "image/png": "[encoded data removed]",
            "text/plain": [
              "<Figure size 432x288 with 1 Axes>"
            ]
          },
          "metadata": {
            "needs_background": "light"
          },
          "output_type": "display_data"
        }
      ],
      "source": [
        "img = load_img('Alzheimer_s Dataset/test/MildDemented/26 (19).jpg',target_size=(128,128))\n",
        "plt.imshow(img)\n",
        "img = img_to_array(img)"
      ]
    },
    {
      "cell_type": "code",
      "execution_count": 12,
      "metadata": {
        "id": "sUiPar8TTy9A"
      },
      "outputs": [],
      "source": [
        "img = cv.resize(img, dsize=(128, 128))\n",
        "img = img.astype('float')*1./255\n",
        "# Convert to tensor\n",
        "img = np.expand_dims(img, axis=0)"
      ]
    },
    {
      "cell_type": "code",
      "execution_count": 13,
      "metadata": {
        "id": "Z4uvFSLIT2GC"
      },
      "outputs": [],
      "source": [
        "class_name = ['MildDemented','ModerateDemented','NonDemented']"
      ]
    },
    {
      "cell_type": "code",
      "execution_count": 14,
      "metadata": {
        "colab": {
          "base_uri": "https://localhost:8080/"
        },
        "id": "RrNRxk3RT05y",
        "outputId": "45531d44-a9b1-4daf-aabe-87c8b29ae0ef"
      },
      "outputs": [
        {
          "name": "stdout",
          "output_type": "stream",
          "text": [
            "1/1 [==============================] - 0s 459ms/step\n"
          ]
        },
        {
          "data": {
            "text/plain": [
              "('ModerateDemented',\n",
              " array([8.131211e-05, 9.999187e-01, 8.017500e-13], dtype=float32))"
            ]
          },
          "execution_count": 14,
          "metadata": {},
          "output_type": "execute_result"
        }
      ],
      "source": [
        "model_5 = load_model('model.h5')\n",
        "predict = model_5.predict(img)\n",
        "class_name[np.argmax(predict[0])], (predict[0])"
      ]
    }
  ],
  "metadata": {
    "accelerator": "GPU",
    "colab": {
      "name": "Alzheimer_s_19146017.ipynb",
      "provenance": []
    },
    "interpreter": {
      "hash": "ad2bdc8ecc057115af97d19610ffacc2b4e99fae6737bb82f5d7fb13d2f2c186"
    },
    "kernelspec": {
      "display_name": "Python 3.9.7 ('base')",
      "language": "python",
      "name": "python3"
    },
    "language_info": {
      "codemirror_mode": {
        "name": "ipython",
        "version": 3
      },
      "file_extension": ".py",
      "mimetype": "text/x-python",
      "name": "python",
      "nbconvert_exporter": "python",
      "pygments_lexer": "ipython3",
      "version": "3.9.7"
    }
  },
  "nbformat": 4,
  "nbformat_minor": 0
}
